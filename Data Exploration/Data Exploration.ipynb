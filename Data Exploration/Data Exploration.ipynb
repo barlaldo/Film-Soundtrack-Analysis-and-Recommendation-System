{
 "cells": [
  {
   "cell_type": "code",
   "execution_count": null,
   "id": "88b71b93",
   "metadata": {},
   "outputs": [],
   "source": [
    "import pandas as pd\n",
    "import matplotlib.pyplot as plt\n",
    "import seaborn as sns\n",
    "from collections import Counter"
   ]
  },
  {
   "cell_type": "code",
   "execution_count": null,
   "id": "cbe62595",
   "metadata": {
    "scrolled": true
   },
   "outputs": [],
   "source": [
    "df = pd.read_csv('C:\\\\Users\\\\barle\\\\Downloads\\\\films_in_depth.csv') # importiamo il file csv"
   ]
  },
  {
   "cell_type": "markdown",
   "id": "e7d89c75",
   "metadata": {},
   "source": [
    "Per computare il peso che il \"gross domestic\" ha sul \"gross_ww\", andiamo a calcolare la differenza fra queste due colonne per poi moltiplicare il tutto per 100, dimodochè si ottenga la percentuale del \"gross_domestic\" sugli incassi totali. Per facilitare la comprensione del plot relativo a questo calcolo, creiamo una condizione ad entrambe le colonne che andrà a prendere in considerazione solo i valori >= 200000000"
   ]
  },
  {
   "cell_type": "code",
   "execution_count": null,
   "id": "43ead9db",
   "metadata": {},
   "outputs": [],
   "source": [
    "df1 = df # creiamo una copia del dataframe originale\n",
    "df1['ratio'] = df['gross_domestic'][df['gross_domestic'] >= 200000000] / df['gross_ww'][df['gross_ww'] >= 200000000] * 100 # calcoliamo la relazione \n",
    "\n",
    "df2 = df1[df1['ratio'] > 0] # creiamo un altro dataset in cui impostiamo la condizione che considererà solo quei titoli che possiedono i valori calcolati qui sopra"
   ]
  },
  {
   "cell_type": "code",
   "execution_count": null,
   "id": "965535c0",
   "metadata": {},
   "outputs": [],
   "source": [
    "df2.plot(x=\"title\", y=[\"ratio\"], kind=\"bar\", figsize=(15, 8)) # plottiamo le percentuali in base al corrispettivo titolo\n",
    " \n",
    "plt.savefig('gross_ratio1.jpg',bbox_inches='tight', dpi=400) # salviamo l'immagine ottenuta"
   ]
  },
  {
   "cell_type": "markdown",
   "id": "0ad97791",
   "metadata": {},
   "source": [
    "Vogliamo, adesso, individuare la differenza che persiste tra il numero di recensioni effettuate da utenti di sesso maschile e da utenti di sesso femminile. Per fare ciò, creiamo dapprima una condizione nella quale prenderemo in considerazione d'ora in poi solo quei titoli con un \"gross_ww\" > 320000000. In seguito, andiamo a plottare il tutto"
   ]
  },
  {
   "cell_type": "code",
   "execution_count": null,
   "id": "43465fdf",
   "metadata": {},
   "outputs": [],
   "source": [
    "df3 = df[df['gross_ww'] > 320000000] #impostiamo la condizione in una nuova copia del dataframe originale\n",
    "\n",
    "df3.plot(x='title', y=['Males_totrat','Females_totrat'],figsize=(20, 13)) # plottiamo la differenza\n",
    "plt.savefig('sex_ratio.jpg',bbox_inches='tight', dpi=400) # salviamo l'immagine ottenuta"
   ]
  },
  {
   "cell_type": "markdown",
   "id": "2a4b1192",
   "metadata": {},
   "source": [
    "Procediamo con lo stesso metodo precedente per calcolare la differenza che esiste tra le recensioni fatte da utenti registrati negli Stati Uniti e da utenti registrati altrove."
   ]
  },
  {
   "cell_type": "code",
   "execution_count": null,
   "id": "1d07bafd",
   "metadata": {},
   "outputs": [],
   "source": [
    "df3.plot(x='title', y=['US_users_totrat','Non_US_users_totrat'],figsize=(20, 13)) # plottiamo la differenza\n",
    "plt.savefig('country_ratio.jpg',bbox_inches='tight', dpi=400) # salviamo l'immagine ottenuta"
   ]
  },
  {
   "cell_type": "markdown",
   "id": "0b76b339",
   "metadata": {},
   "source": [
    "Per poter calcolare la percentuale delle diverse fasce d'età degli utenti recensitori, andiamo a sommare tutti gli utenti presenti all'interno di una delle quattro fasce d'età, più in particolare abbiamo la fascia d'età under 18, la fascia d'età 18-29, la fascia d'età 30-44 ed infine la fascia d'età 45+. In seguito, andiamo a plottare il tutto in un pie chart"
   ]
  },
  {
   "cell_type": "code",
   "execution_count": null,
   "id": "61c3d879",
   "metadata": {},
   "outputs": [],
   "source": [
    "somma= df[['Aged_30_44_totrat','Aged_45plus_totrat','Aged_18_29_totrat','Aged_under_18_totrat']].sum() # salviamo il numero di utenti recensitori inquadrabili in una determinata fascia d'età  \n",
    "lista = ['Aged_30_44_totrat','Aged_45plus_totrat','Aged_18_29_totrat','Aged_under_18_totrat'] # salviamo la lista delle 4 fasce d'età"
   ]
  },
  {
   "cell_type": "code",
   "execution_count": null,
   "id": "fc84522d",
   "metadata": {},
   "outputs": [],
   "source": [
    "plt.pie(somma, labels = lista, autopct='%1.1f%%') # creiamo un pie chart con le annesse percentuali\n",
    "plt.savefig('aged_ratio.jpg',bbox_inches='tight', dpi=400) # salviamo l'immagine ottenuta"
   ]
  },
  {
   "cell_type": "markdown",
   "id": "5ce0d62d",
   "metadata": {},
   "source": [
    "Vogliamo individuare quali film posseggono un certo tipo di classificazione. Per fare ciò, andremo dapprima ad usare la funzione \"Counter\" della libreria \"collections\" per poter contare qunte volte sono presenti i vari rating tra i film; in seguito andiamo a convertire i valori numerici ottenuti in float, cosicchè il computatore non abbia problemi di comprensione dei dati, ed infine plottiamo il tutto."
   ]
  },
  {
   "cell_type": "code",
   "execution_count": null,
   "id": "187113c0",
   "metadata": {},
   "outputs": [],
   "source": [
    "rating = Counter(df['certificate']) # contiamo il numero di volte in cui si ripetono le varie classificazioni e le salviamo in \"rating\"\n",
    "rating1 = [float(x) for x in rating.values()] # convertiamo i valori numerici ottenuti in float e le salviamo in rating1"
   ]
  },
  {
   "cell_type": "code",
   "execution_count": null,
   "id": "bb065cb6",
   "metadata": {},
   "outputs": [],
   "source": [
    "fig = plt.figure(figsize =(10, 30)) # impostiamo   \n",
    "plt.pie(rating1, labels = rating.keys()) # plottiamo i dati ottenuti in un pie chart\n",
    "plt.tight_layout() # regola il tipo di riempimento del pie chart"
   ]
  }
 ],
 "metadata": {
  "kernelspec": {
   "display_name": "Python 3 (ipykernel)",
   "language": "python",
   "name": "python3"
  },
  "language_info": {
   "codemirror_mode": {
    "name": "ipython",
    "version": 3
   },
   "file_extension": ".py",
   "mimetype": "text/x-python",
   "name": "python",
   "nbconvert_exporter": "python",
   "pygments_lexer": "ipython3",
   "version": "3.9.12"
  }
 },
 "nbformat": 4,
 "nbformat_minor": 5
}
