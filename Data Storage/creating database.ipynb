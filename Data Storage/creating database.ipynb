{
 "cells": [
  {
   "cell_type": "code",
   "execution_count": 1,
   "id": "29fed1f1",
   "metadata": {},
   "outputs": [],
   "source": [
    "import pandas as pd\n",
    "import pandas_profiling"
   ]
  },
  {
   "cell_type": "markdown",
   "id": "ad127b51",
   "metadata": {},
   "source": [
    "### Importo Dati"
   ]
  },
  {
   "cell_type": "markdown",
   "id": "0bfa690d",
   "metadata": {},
   "source": [
    "Importo tutti i csv utili alla creazione del database. Le tabelle del database saranno: films, films_in_depth, join_table, albums, songs_features"
   ]
  },
  {
   "cell_type": "markdown",
   "id": "b0bc1522",
   "metadata": {},
   "source": [
    "#### Films"
   ]
  },
  {
   "cell_type": "code",
   "execution_count": 2,
   "id": "25f8b5c0",
   "metadata": {},
   "outputs": [],
   "source": [
    "films = pd.read_csv(r'/Users/tommaso/Desktop/UNIVERSITÀ/magistrale/I anno/data management and visualization/data management/project spotify/CODICI/dataset finali/merge (1).csv')\n",
    "films = films.drop('Unnamed: 0',axis=1)\n",
    "join = films[['imdb_id', 'uri']]          #creo la tabella di join "
   ]
  },
  {
   "cell_type": "code",
   "execution_count": 3,
   "id": "1ecc63e9",
   "metadata": {},
   "outputs": [
    {
     "data": {
      "text/html": [
       "<div>\n",
       "<style scoped>\n",
       "    .dataframe tbody tr th:only-of-type {\n",
       "        vertical-align: middle;\n",
       "    }\n",
       "\n",
       "    .dataframe tbody tr th {\n",
       "        vertical-align: top;\n",
       "    }\n",
       "\n",
       "    .dataframe thead th {\n",
       "        text-align: right;\n",
       "    }\n",
       "</style>\n",
       "<table border=\"1\" class=\"dataframe\">\n",
       "  <thead>\n",
       "    <tr style=\"text-align: right;\">\n",
       "      <th></th>\n",
       "      <th>imdb_id</th>\n",
       "      <th>title</th>\n",
       "      <th>original_title</th>\n",
       "      <th>overview</th>\n",
       "      <th>release_date</th>\n",
       "      <th>original_language</th>\n",
       "      <th>runtime</th>\n",
       "      <th>popularity</th>\n",
       "    </tr>\n",
       "  </thead>\n",
       "  <tbody>\n",
       "    <tr>\n",
       "      <th>0</th>\n",
       "      <td>tt3521164</td>\n",
       "      <td>Moana</td>\n",
       "      <td>Moana</td>\n",
       "      <td>In Ancient Polynesia, when a terrible curse in...</td>\n",
       "      <td>2016</td>\n",
       "      <td>en</td>\n",
       "      <td>107.0</td>\n",
       "      <td>9.143457</td>\n",
       "    </tr>\n",
       "    <tr>\n",
       "      <th>1</th>\n",
       "      <td>tt2294629</td>\n",
       "      <td>Frozen</td>\n",
       "      <td>Frozen</td>\n",
       "      <td>Young princess Anna of Arendelle dreams about ...</td>\n",
       "      <td>2013</td>\n",
       "      <td>en</td>\n",
       "      <td>102.0</td>\n",
       "      <td>24.248243</td>\n",
       "    </tr>\n",
       "    <tr>\n",
       "      <th>2</th>\n",
       "      <td>tt0034862</td>\n",
       "      <td>Holiday Inn</td>\n",
       "      <td>Holiday Inn</td>\n",
       "      <td>Lovely Linda Mason has crooner Jim Hardy head ...</td>\n",
       "      <td>1942</td>\n",
       "      <td>en</td>\n",
       "      <td>100.0</td>\n",
       "      <td>8.258968</td>\n",
       "    </tr>\n",
       "    <tr>\n",
       "      <th>3</th>\n",
       "      <td>tt0099785</td>\n",
       "      <td>Home Alone</td>\n",
       "      <td>Home Alone</td>\n",
       "      <td>Eight-year-old Kevin McCallister makes the mos...</td>\n",
       "      <td>1990</td>\n",
       "      <td>en</td>\n",
       "      <td>103.0</td>\n",
       "      <td>0.702543</td>\n",
       "    </tr>\n",
       "    <tr>\n",
       "      <th>4</th>\n",
       "      <td>tt0077631</td>\n",
       "      <td>Grease</td>\n",
       "      <td>Grease</td>\n",
       "      <td>Australian good girl Sandy and greaser Danny f...</td>\n",
       "      <td>1978</td>\n",
       "      <td>en</td>\n",
       "      <td>110.0</td>\n",
       "      <td>7.854899</td>\n",
       "    </tr>\n",
       "  </tbody>\n",
       "</table>\n",
       "</div>"
      ],
      "text/plain": [
       "     imdb_id        title original_title  \\\n",
       "0  tt3521164        Moana          Moana   \n",
       "1  tt2294629       Frozen         Frozen   \n",
       "2  tt0034862  Holiday Inn    Holiday Inn   \n",
       "3  tt0099785   Home Alone     Home Alone   \n",
       "4  tt0077631       Grease         Grease   \n",
       "\n",
       "                                            overview  release_date  \\\n",
       "0  In Ancient Polynesia, when a terrible curse in...          2016   \n",
       "1  Young princess Anna of Arendelle dreams about ...          2013   \n",
       "2  Lovely Linda Mason has crooner Jim Hardy head ...          1942   \n",
       "3  Eight-year-old Kevin McCallister makes the mos...          1990   \n",
       "4  Australian good girl Sandy and greaser Danny f...          1978   \n",
       "\n",
       "  original_language  runtime  popularity  \n",
       "0                en    107.0    9.143457  \n",
       "1                en    102.0   24.248243  \n",
       "2                en    100.0    8.258968  \n",
       "3                en    103.0    0.702543  \n",
       "4                en    110.0    7.854899  "
      ]
     },
     "execution_count": 3,
     "metadata": {},
     "output_type": "execute_result"
    }
   ],
   "source": [
    "films = films[['imdb_id', 'title', 'original_title', 'overview',\n",
    "       'release_date', 'original_language', 'runtime', 'popularity']]   #prendo solo le colonne che mi interessano per il database\n",
    "films.head()    #tabella finale 'films'"
   ]
  },
  {
   "cell_type": "markdown",
   "id": "54321988",
   "metadata": {},
   "source": [
    "#### Films in depth"
   ]
  },
  {
   "cell_type": "code",
   "execution_count": 4,
   "id": "b3ff7f92",
   "metadata": {
    "scrolled": true
   },
   "outputs": [
    {
     "data": {
      "text/html": [
       "<div>\n",
       "<style scoped>\n",
       "    .dataframe tbody tr th:only-of-type {\n",
       "        vertical-align: middle;\n",
       "    }\n",
       "\n",
       "    .dataframe tbody tr th {\n",
       "        vertical-align: top;\n",
       "    }\n",
       "\n",
       "    .dataframe thead th {\n",
       "        text-align: right;\n",
       "    }\n",
       "</style>\n",
       "<table border=\"1\" class=\"dataframe\">\n",
       "  <thead>\n",
       "    <tr style=\"text-align: right;\">\n",
       "      <th></th>\n",
       "      <th>imdb_id</th>\n",
       "      <th>title</th>\n",
       "      <th>rating</th>\n",
       "      <th>ratingcount</th>\n",
       "      <th>certificate</th>\n",
       "      <th>genres</th>\n",
       "      <th>gross_ww</th>\n",
       "      <th>gross_domestic</th>\n",
       "      <th>budget</th>\n",
       "      <th>Aged_30_44_rat</th>\n",
       "      <th>...</th>\n",
       "      <th>Aged_45plus_rat</th>\n",
       "      <th>Aged_45plus_totrat</th>\n",
       "      <th>Aged_18_29_rat</th>\n",
       "      <th>Aged_18_29_totrat</th>\n",
       "      <th>Males_rat</th>\n",
       "      <th>Males_totrat</th>\n",
       "      <th>Aged_under_18_rat</th>\n",
       "      <th>Aged_under_18_totrat</th>\n",
       "      <th>Non_US_users_rat</th>\n",
       "      <th>Non_US_users_totrat</th>\n",
       "    </tr>\n",
       "  </thead>\n",
       "  <tbody>\n",
       "    <tr>\n",
       "      <th>0</th>\n",
       "      <td>tt3521164</td>\n",
       "      <td>Moana</td>\n",
       "      <td>7.6</td>\n",
       "      <td>342022</td>\n",
       "      <td>PG</td>\n",
       "      <td>['Animation', 'Adventure', 'Comedy', 'Family',...</td>\n",
       "      <td>6.650691e+08</td>\n",
       "      <td>248757044.0</td>\n",
       "      <td>150000000.0</td>\n",
       "      <td>7.5</td>\n",
       "      <td>...</td>\n",
       "      <td>7.5</td>\n",
       "      <td>25999</td>\n",
       "      <td>7.7</td>\n",
       "      <td>52361</td>\n",
       "      <td>7.5</td>\n",
       "      <td>152508</td>\n",
       "      <td>7.6</td>\n",
       "      <td>403.0</td>\n",
       "      <td>7.5</td>\n",
       "      <td>234962</td>\n",
       "    </tr>\n",
       "    <tr>\n",
       "      <th>1</th>\n",
       "      <td>tt2294629</td>\n",
       "      <td>Frozen</td>\n",
       "      <td>7.4</td>\n",
       "      <td>631125</td>\n",
       "      <td>PG</td>\n",
       "      <td>['Animation', 'Adventure', 'Comedy', 'Family',...</td>\n",
       "      <td>1.284541e+09</td>\n",
       "      <td>400953009.0</td>\n",
       "      <td>150000000.0</td>\n",
       "      <td>7.4</td>\n",
       "      <td>...</td>\n",
       "      <td>7.3</td>\n",
       "      <td>53602</td>\n",
       "      <td>7.6</td>\n",
       "      <td>108598</td>\n",
       "      <td>7.3</td>\n",
       "      <td>295729</td>\n",
       "      <td>7.2</td>\n",
       "      <td>453.0</td>\n",
       "      <td>7.4</td>\n",
       "      <td>401653</td>\n",
       "    </tr>\n",
       "    <tr>\n",
       "      <th>2</th>\n",
       "      <td>tt0034862</td>\n",
       "      <td>Holiday Inn</td>\n",
       "      <td>7.3</td>\n",
       "      <td>16155</td>\n",
       "      <td>Passed</td>\n",
       "      <td>['Comedy', 'Drama', 'Music', 'Musical', 'Roman...</td>\n",
       "      <td>NaN</td>\n",
       "      <td>NaN</td>\n",
       "      <td>3200000.0</td>\n",
       "      <td>7.1</td>\n",
       "      <td>...</td>\n",
       "      <td>7.5</td>\n",
       "      <td>5887</td>\n",
       "      <td>7.2</td>\n",
       "      <td>830</td>\n",
       "      <td>7.2</td>\n",
       "      <td>7915</td>\n",
       "      <td>8.0</td>\n",
       "      <td>1.0</td>\n",
       "      <td>7.1</td>\n",
       "      <td>4870</td>\n",
       "    </tr>\n",
       "    <tr>\n",
       "      <th>3</th>\n",
       "      <td>tt0099785</td>\n",
       "      <td>Home Alone</td>\n",
       "      <td>7.7</td>\n",
       "      <td>597264</td>\n",
       "      <td>PG</td>\n",
       "      <td>['Comedy', 'Family']</td>\n",
       "      <td>4.766847e+08</td>\n",
       "      <td>285761243.0</td>\n",
       "      <td>18000000.0</td>\n",
       "      <td>7.7</td>\n",
       "      <td>...</td>\n",
       "      <td>7.2</td>\n",
       "      <td>56454</td>\n",
       "      <td>7.7</td>\n",
       "      <td>75022</td>\n",
       "      <td>7.6</td>\n",
       "      <td>307555</td>\n",
       "      <td>7.9</td>\n",
       "      <td>543.0</td>\n",
       "      <td>7.6</td>\n",
       "      <td>392256</td>\n",
       "    </tr>\n",
       "    <tr>\n",
       "      <th>4</th>\n",
       "      <td>tt0077631</td>\n",
       "      <td>Grease</td>\n",
       "      <td>7.2</td>\n",
       "      <td>281652</td>\n",
       "      <td>PG</td>\n",
       "      <td>['Comedy', 'Musical', 'Romance']</td>\n",
       "      <td>3.962711e+08</td>\n",
       "      <td>190071103.0</td>\n",
       "      <td>6000000.0</td>\n",
       "      <td>7.1</td>\n",
       "      <td>...</td>\n",
       "      <td>7.4</td>\n",
       "      <td>46910</td>\n",
       "      <td>7.2</td>\n",
       "      <td>32114</td>\n",
       "      <td>7.0</td>\n",
       "      <td>120198</td>\n",
       "      <td>6.7</td>\n",
       "      <td>107.0</td>\n",
       "      <td>7.2</td>\n",
       "      <td>169025</td>\n",
       "    </tr>\n",
       "  </tbody>\n",
       "</table>\n",
       "<p>5 rows × 25 columns</p>\n",
       "</div>"
      ],
      "text/plain": [
       "     imdb_id        title  rating  ratingcount certificate  \\\n",
       "0  tt3521164        Moana     7.6       342022          PG   \n",
       "1  tt2294629       Frozen     7.4       631125          PG   \n",
       "2  tt0034862  Holiday Inn     7.3        16155      Passed   \n",
       "3  tt0099785   Home Alone     7.7       597264          PG   \n",
       "4  tt0077631       Grease     7.2       281652          PG   \n",
       "\n",
       "                                              genres      gross_ww  \\\n",
       "0  ['Animation', 'Adventure', 'Comedy', 'Family',...  6.650691e+08   \n",
       "1  ['Animation', 'Adventure', 'Comedy', 'Family',...  1.284541e+09   \n",
       "2  ['Comedy', 'Drama', 'Music', 'Musical', 'Roman...           NaN   \n",
       "3                               ['Comedy', 'Family']  4.766847e+08   \n",
       "4                   ['Comedy', 'Musical', 'Romance']  3.962711e+08   \n",
       "\n",
       "   gross_domestic       budget  Aged_30_44_rat  ...  Aged_45plus_rat  \\\n",
       "0     248757044.0  150000000.0             7.5  ...              7.5   \n",
       "1     400953009.0  150000000.0             7.4  ...              7.3   \n",
       "2             NaN    3200000.0             7.1  ...              7.5   \n",
       "3     285761243.0   18000000.0             7.7  ...              7.2   \n",
       "4     190071103.0    6000000.0             7.1  ...              7.4   \n",
       "\n",
       "   Aged_45plus_totrat  Aged_18_29_rat  Aged_18_29_totrat  Males_rat  \\\n",
       "0               25999             7.7              52361        7.5   \n",
       "1               53602             7.6             108598        7.3   \n",
       "2                5887             7.2                830        7.2   \n",
       "3               56454             7.7              75022        7.6   \n",
       "4               46910             7.2              32114        7.0   \n",
       "\n",
       "   Males_totrat  Aged_under_18_rat  Aged_under_18_totrat  Non_US_users_rat  \\\n",
       "0        152508                7.6                 403.0               7.5   \n",
       "1        295729                7.2                 453.0               7.4   \n",
       "2          7915                8.0                   1.0               7.1   \n",
       "3        307555                7.9                 543.0               7.6   \n",
       "4        120198                6.7                 107.0               7.2   \n",
       "\n",
       "   Non_US_users_totrat  \n",
       "0               234962  \n",
       "1               401653  \n",
       "2                 4870  \n",
       "3               392256  \n",
       "4               169025  \n",
       "\n",
       "[5 rows x 25 columns]"
      ]
     },
     "execution_count": 4,
     "metadata": {},
     "output_type": "execute_result"
    }
   ],
   "source": [
    "films_in_depth = pd.read_csv(r'/Users/tommaso/Desktop/UNIVERSITÀ/magistrale/I anno/data management and visualization/data management/project spotify/CODICI/dataset finali/films_in_depth.csv')\n",
    "films_in_depth = films_in_depth.drop('Unnamed: 0',axis=1)\n",
    "films_in_depth.head()  ##qui ci sarà il films_in_depth finale"
   ]
  },
  {
   "cell_type": "markdown",
   "id": "c0aa302b",
   "metadata": {},
   "source": [
    "#### Join table"
   ]
  },
  {
   "cell_type": "code",
   "execution_count": 5,
   "id": "71b10c68",
   "metadata": {},
   "outputs": [
    {
     "data": {
      "text/html": [
       "<div>\n",
       "<style scoped>\n",
       "    .dataframe tbody tr th:only-of-type {\n",
       "        vertical-align: middle;\n",
       "    }\n",
       "\n",
       "    .dataframe tbody tr th {\n",
       "        vertical-align: top;\n",
       "    }\n",
       "\n",
       "    .dataframe thead th {\n",
       "        text-align: right;\n",
       "    }\n",
       "</style>\n",
       "<table border=\"1\" class=\"dataframe\">\n",
       "  <thead>\n",
       "    <tr style=\"text-align: right;\">\n",
       "      <th></th>\n",
       "      <th>imdb_id</th>\n",
       "      <th>album_uri</th>\n",
       "    </tr>\n",
       "  </thead>\n",
       "  <tbody>\n",
       "    <tr>\n",
       "      <th>0</th>\n",
       "      <td>tt3521164</td>\n",
       "      <td>6pZj4nvx6lV3ulIK3BSjvs</td>\n",
       "    </tr>\n",
       "    <tr>\n",
       "      <th>1</th>\n",
       "      <td>tt2294629</td>\n",
       "      <td>2lfqRceJLjF8rSeo5P7SWW</td>\n",
       "    </tr>\n",
       "    <tr>\n",
       "      <th>2</th>\n",
       "      <td>tt0034862</td>\n",
       "      <td>4ZZvKnA1YJ2KcwjMmHBinq</td>\n",
       "    </tr>\n",
       "    <tr>\n",
       "      <th>3</th>\n",
       "      <td>tt0099785</td>\n",
       "      <td>3rDo7fQDUwJ6qmxwP5yQsY</td>\n",
       "    </tr>\n",
       "    <tr>\n",
       "      <th>4</th>\n",
       "      <td>tt0077631</td>\n",
       "      <td>5n47Dui0H3pGpZSOxITmoq</td>\n",
       "    </tr>\n",
       "  </tbody>\n",
       "</table>\n",
       "</div>"
      ],
      "text/plain": [
       "     imdb_id               album_uri\n",
       "0  tt3521164  6pZj4nvx6lV3ulIK3BSjvs\n",
       "1  tt2294629  2lfqRceJLjF8rSeo5P7SWW\n",
       "2  tt0034862  4ZZvKnA1YJ2KcwjMmHBinq\n",
       "3  tt0099785  3rDo7fQDUwJ6qmxwP5yQsY\n",
       "4  tt0077631  5n47Dui0H3pGpZSOxITmoq"
      ]
     },
     "execution_count": 5,
     "metadata": {},
     "output_type": "execute_result"
    }
   ],
   "source": [
    "join_table = join.rename(columns = {'uri':'album_uri'})\n",
    "for i in range(0,len(join_table)):                   ### estraggo il pezzo finale delle uri che mi serve per estrarre le tracks degli album            \n",
    "    join_table['album_uri'][i]=join_table['album_uri'][i].split(\":\")[2]\n",
    "join_table.head()   #tabella finale 'join_table'"
   ]
  },
  {
   "cell_type": "markdown",
   "id": "ee1b4365",
   "metadata": {},
   "source": [
    "#### Albums"
   ]
  },
  {
   "cell_type": "code",
   "execution_count": 6,
   "id": "2b26b9f1",
   "metadata": {},
   "outputs": [
    {
     "data": {
      "text/html": [
       "<div>\n",
       "<style scoped>\n",
       "    .dataframe tbody tr th:only-of-type {\n",
       "        vertical-align: middle;\n",
       "    }\n",
       "\n",
       "    .dataframe tbody tr th {\n",
       "        vertical-align: top;\n",
       "    }\n",
       "\n",
       "    .dataframe thead th {\n",
       "        text-align: right;\n",
       "    }\n",
       "</style>\n",
       "<table border=\"1\" class=\"dataframe\">\n",
       "  <thead>\n",
       "    <tr style=\"text-align: right;\">\n",
       "      <th></th>\n",
       "      <th>album_uri</th>\n",
       "      <th>title</th>\n",
       "      <th>album_date</th>\n",
       "    </tr>\n",
       "  </thead>\n",
       "  <tbody>\n",
       "    <tr>\n",
       "      <th>0</th>\n",
       "      <td>6pZj4nvx6lV3ulIK3BSjvs</td>\n",
       "      <td>Moana</td>\n",
       "      <td>2016</td>\n",
       "    </tr>\n",
       "    <tr>\n",
       "      <th>1</th>\n",
       "      <td>2lfqRceJLjF8rSeo5P7SWW</td>\n",
       "      <td>Frozen</td>\n",
       "      <td>2013</td>\n",
       "    </tr>\n",
       "    <tr>\n",
       "      <th>2</th>\n",
       "      <td>4ZZvKnA1YJ2KcwjMmHBinq</td>\n",
       "      <td>Holiday Inn</td>\n",
       "      <td>1942</td>\n",
       "    </tr>\n",
       "    <tr>\n",
       "      <th>3</th>\n",
       "      <td>3rDo7fQDUwJ6qmxwP5yQsY</td>\n",
       "      <td>Home Alone</td>\n",
       "      <td>1990</td>\n",
       "    </tr>\n",
       "    <tr>\n",
       "      <th>4</th>\n",
       "      <td>5n47Dui0H3pGpZSOxITmoq</td>\n",
       "      <td>Grease</td>\n",
       "      <td>1978</td>\n",
       "    </tr>\n",
       "  </tbody>\n",
       "</table>\n",
       "</div>"
      ],
      "text/plain": [
       "                album_uri        title  album_date\n",
       "0  6pZj4nvx6lV3ulIK3BSjvs        Moana        2016\n",
       "1  2lfqRceJLjF8rSeo5P7SWW       Frozen        2013\n",
       "2  4ZZvKnA1YJ2KcwjMmHBinq  Holiday Inn        1942\n",
       "3  3rDo7fQDUwJ6qmxwP5yQsY   Home Alone        1990\n",
       "4  5n47Dui0H3pGpZSOxITmoq       Grease        1978"
      ]
     },
     "execution_count": 6,
     "metadata": {},
     "output_type": "execute_result"
    }
   ],
   "source": [
    "albums = pd.read_csv(r'/Users/tommaso/Desktop/UNIVERSITÀ/magistrale/I anno/data management and visualization/data management/project spotify/CODICI/dataset finali/albums.csv')\n",
    "albums = albums.drop('Unnamed: 0',axis=1)\n",
    "albums = albums.rename(columns = {'uri':'album_uri'})\n",
    "albums.head()"
   ]
  },
  {
   "cell_type": "markdown",
   "id": "82a3c166",
   "metadata": {},
   "source": [
    "#### Songs features"
   ]
  },
  {
   "cell_type": "code",
   "execution_count": 7,
   "id": "aac9925d",
   "metadata": {},
   "outputs": [
    {
     "data": {
      "text/html": [
       "<div>\n",
       "<style scoped>\n",
       "    .dataframe tbody tr th:only-of-type {\n",
       "        vertical-align: middle;\n",
       "    }\n",
       "\n",
       "    .dataframe tbody tr th {\n",
       "        vertical-align: top;\n",
       "    }\n",
       "\n",
       "    .dataframe thead th {\n",
       "        text-align: right;\n",
       "    }\n",
       "</style>\n",
       "<table border=\"1\" class=\"dataframe\">\n",
       "  <thead>\n",
       "    <tr style=\"text-align: right;\">\n",
       "      <th></th>\n",
       "      <th>album_uri</th>\n",
       "      <th>album_title</th>\n",
       "      <th>track_uri</th>\n",
       "      <th>song_title</th>\n",
       "      <th>first_artist</th>\n",
       "      <th>artists</th>\n",
       "      <th>danceability</th>\n",
       "      <th>energy</th>\n",
       "      <th>key</th>\n",
       "      <th>loudness</th>\n",
       "      <th>mode</th>\n",
       "      <th>speechiness</th>\n",
       "      <th>acousticness</th>\n",
       "      <th>instrumentalness</th>\n",
       "      <th>liveness</th>\n",
       "      <th>valence</th>\n",
       "      <th>tempo</th>\n",
       "      <th>duration_ms</th>\n",
       "      <th>time_signature</th>\n",
       "    </tr>\n",
       "  </thead>\n",
       "  <tbody>\n",
       "    <tr>\n",
       "      <th>0</th>\n",
       "      <td>6pZj4nvx6lV3ulIK3BSjvs</td>\n",
       "      <td>Moana</td>\n",
       "      <td>spotify:track:6FHUBs8P5qcjpj7C2QHdEq</td>\n",
       "      <td>Tulou Tagaloa</td>\n",
       "      <td>Olivia Foa'i</td>\n",
       "      <td>[\"Olivia Foa'i\"]</td>\n",
       "      <td>0.271</td>\n",
       "      <td>0.405</td>\n",
       "      <td>2.0</td>\n",
       "      <td>-10.839</td>\n",
       "      <td>1.0</td>\n",
       "      <td>0.0379</td>\n",
       "      <td>0.337</td>\n",
       "      <td>0.123000</td>\n",
       "      <td>0.165</td>\n",
       "      <td>0.188</td>\n",
       "      <td>109.041</td>\n",
       "      <td>51933.0</td>\n",
       "      <td>5.0</td>\n",
       "    </tr>\n",
       "    <tr>\n",
       "      <th>1</th>\n",
       "      <td>6pZj4nvx6lV3ulIK3BSjvs</td>\n",
       "      <td>Moana</td>\n",
       "      <td>spotify:track:3ZJnc1eGicPxRitBoC7eWZ</td>\n",
       "      <td>An Innocent Warrior</td>\n",
       "      <td>Vai Mahina</td>\n",
       "      <td>['Vai Mahina', 'Sulata Foai-Amiatu', 'Matthew ...</td>\n",
       "      <td>0.283</td>\n",
       "      <td>0.203</td>\n",
       "      <td>2.0</td>\n",
       "      <td>-11.228</td>\n",
       "      <td>1.0</td>\n",
       "      <td>0.0342</td>\n",
       "      <td>0.909</td>\n",
       "      <td>0.000661</td>\n",
       "      <td>0.110</td>\n",
       "      <td>0.180</td>\n",
       "      <td>84.656</td>\n",
       "      <td>97413.0</td>\n",
       "      <td>4.0</td>\n",
       "    </tr>\n",
       "    <tr>\n",
       "      <th>2</th>\n",
       "      <td>6pZj4nvx6lV3ulIK3BSjvs</td>\n",
       "      <td>Moana</td>\n",
       "      <td>spotify:track:2bwSCIuNtVrQPVddCi8sOW</td>\n",
       "      <td>Where You Are</td>\n",
       "      <td>Christopher Jackson</td>\n",
       "      <td>['Christopher Jackson', 'Rachel House', 'Nicol...</td>\n",
       "      <td>0.707</td>\n",
       "      <td>0.656</td>\n",
       "      <td>4.0</td>\n",
       "      <td>-9.279</td>\n",
       "      <td>1.0</td>\n",
       "      <td>0.1730</td>\n",
       "      <td>0.743</td>\n",
       "      <td>0.000000</td>\n",
       "      <td>0.172</td>\n",
       "      <td>0.748</td>\n",
       "      <td>118.037</td>\n",
       "      <td>210320.0</td>\n",
       "      <td>4.0</td>\n",
       "    </tr>\n",
       "    <tr>\n",
       "      <th>3</th>\n",
       "      <td>6pZj4nvx6lV3ulIK3BSjvs</td>\n",
       "      <td>Moana</td>\n",
       "      <td>spotify:track:6mb6lVLNrcUgLnEN8QnDJd</td>\n",
       "      <td>How Far I'll Go</td>\n",
       "      <td>Auli'i Cravalho</td>\n",
       "      <td>[\"Auli'i Cravalho\"]</td>\n",
       "      <td>0.571</td>\n",
       "      <td>0.307</td>\n",
       "      <td>1.0</td>\n",
       "      <td>-10.958</td>\n",
       "      <td>0.0</td>\n",
       "      <td>0.0499</td>\n",
       "      <td>0.649</td>\n",
       "      <td>0.000000</td>\n",
       "      <td>0.178</td>\n",
       "      <td>0.108</td>\n",
       "      <td>83.720</td>\n",
       "      <td>163387.0</td>\n",
       "      <td>4.0</td>\n",
       "    </tr>\n",
       "    <tr>\n",
       "      <th>4</th>\n",
       "      <td>6pZj4nvx6lV3ulIK3BSjvs</td>\n",
       "      <td>Moana</td>\n",
       "      <td>spotify:track:6YH2r9NyEJTjlRmKOCvxgJ</td>\n",
       "      <td>We Know The Way</td>\n",
       "      <td>Opetaia Foa'i</td>\n",
       "      <td>[\"Opetaia Foa'i\", 'Lin-Manuel Miranda']</td>\n",
       "      <td>0.689</td>\n",
       "      <td>0.578</td>\n",
       "      <td>9.0</td>\n",
       "      <td>-8.737</td>\n",
       "      <td>1.0</td>\n",
       "      <td>0.0368</td>\n",
       "      <td>0.360</td>\n",
       "      <td>0.000000</td>\n",
       "      <td>0.110</td>\n",
       "      <td>0.391</td>\n",
       "      <td>98.043</td>\n",
       "      <td>141413.0</td>\n",
       "      <td>4.0</td>\n",
       "    </tr>\n",
       "  </tbody>\n",
       "</table>\n",
       "</div>"
      ],
      "text/plain": [
       "                album_uri album_title                             track_uri  \\\n",
       "0  6pZj4nvx6lV3ulIK3BSjvs       Moana  spotify:track:6FHUBs8P5qcjpj7C2QHdEq   \n",
       "1  6pZj4nvx6lV3ulIK3BSjvs       Moana  spotify:track:3ZJnc1eGicPxRitBoC7eWZ   \n",
       "2  6pZj4nvx6lV3ulIK3BSjvs       Moana  spotify:track:2bwSCIuNtVrQPVddCi8sOW   \n",
       "3  6pZj4nvx6lV3ulIK3BSjvs       Moana  spotify:track:6mb6lVLNrcUgLnEN8QnDJd   \n",
       "4  6pZj4nvx6lV3ulIK3BSjvs       Moana  spotify:track:6YH2r9NyEJTjlRmKOCvxgJ   \n",
       "\n",
       "            song_title         first_artist  \\\n",
       "0        Tulou Tagaloa         Olivia Foa'i   \n",
       "1  An Innocent Warrior           Vai Mahina   \n",
       "2        Where You Are  Christopher Jackson   \n",
       "3      How Far I'll Go      Auli'i Cravalho   \n",
       "4      We Know The Way        Opetaia Foa'i   \n",
       "\n",
       "                                             artists  danceability  energy  \\\n",
       "0                                   [\"Olivia Foa'i\"]         0.271   0.405   \n",
       "1  ['Vai Mahina', 'Sulata Foai-Amiatu', 'Matthew ...         0.283   0.203   \n",
       "2  ['Christopher Jackson', 'Rachel House', 'Nicol...         0.707   0.656   \n",
       "3                                [\"Auli'i Cravalho\"]         0.571   0.307   \n",
       "4            [\"Opetaia Foa'i\", 'Lin-Manuel Miranda']         0.689   0.578   \n",
       "\n",
       "   key  loudness  mode  speechiness  acousticness  instrumentalness  liveness  \\\n",
       "0  2.0   -10.839   1.0       0.0379         0.337          0.123000     0.165   \n",
       "1  2.0   -11.228   1.0       0.0342         0.909          0.000661     0.110   \n",
       "2  4.0    -9.279   1.0       0.1730         0.743          0.000000     0.172   \n",
       "3  1.0   -10.958   0.0       0.0499         0.649          0.000000     0.178   \n",
       "4  9.0    -8.737   1.0       0.0368         0.360          0.000000     0.110   \n",
       "\n",
       "   valence    tempo  duration_ms  time_signature  \n",
       "0    0.188  109.041      51933.0             5.0  \n",
       "1    0.180   84.656      97413.0             4.0  \n",
       "2    0.748  118.037     210320.0             4.0  \n",
       "3    0.108   83.720     163387.0             4.0  \n",
       "4    0.391   98.043     141413.0             4.0  "
      ]
     },
     "execution_count": 7,
     "metadata": {},
     "output_type": "execute_result"
    }
   ],
   "source": [
    "songs_features = pd.read_csv(r'/Users/tommaso/Desktop/UNIVERSITÀ/magistrale/I anno/data management and visualization/data management/project spotify/CODICI/dataset finali/features_finale.csv')\n",
    "songs_features = songs_features.drop('Unnamed: 0',axis=1)\n",
    "songs_features = songs_features.rename(columns = {'uri':'track_uri'})\n",
    "songs_features.head()"
   ]
  },
  {
   "cell_type": "markdown",
   "id": "24b4ccd0",
   "metadata": {},
   "source": [
    "### Creo Database"
   ]
  },
  {
   "cell_type": "code",
   "execution_count": 8,
   "id": "cfb8dfbe",
   "metadata": {},
   "outputs": [],
   "source": [
    "from pathlib import Path\n",
    "Path('spotiFilm.db').touch()"
   ]
  },
  {
   "cell_type": "code",
   "execution_count": 9,
   "id": "321d38ad",
   "metadata": {},
   "outputs": [],
   "source": [
    "import sqlite3\n",
    "conn = sqlite3.connect('spotiFilm.db')\n",
    "c = conn.cursor()"
   ]
  },
  {
   "cell_type": "code",
   "execution_count": 10,
   "id": "2da2c7b1",
   "metadata": {},
   "outputs": [
    {
     "data": {
      "text/plain": [
       "<sqlite3.Cursor at 0x7faaa30c43b0>"
      ]
     },
     "execution_count": 10,
     "metadata": {},
     "output_type": "execute_result"
    }
   ],
   "source": [
    "c.execute('''CREATE TABLE films (imdb_id text, title text, original_title text, overview text, release_date int, original_language text, runtime float, popularity float)''')"
   ]
  },
  {
   "cell_type": "code",
   "execution_count": 11,
   "id": "f62f242a",
   "metadata": {},
   "outputs": [
    {
     "data": {
      "text/plain": [
       "361"
      ]
     },
     "execution_count": 11,
     "metadata": {},
     "output_type": "execute_result"
    }
   ],
   "source": [
    "films.to_sql('films', conn, if_exists='append', index = False)  # films"
   ]
  },
  {
   "cell_type": "code",
   "execution_count": 12,
   "id": "402eb104",
   "metadata": {},
   "outputs": [
    {
     "data": {
      "text/plain": [
       "<sqlite3.Cursor at 0x7faaa30c43b0>"
      ]
     },
     "execution_count": 12,
     "metadata": {},
     "output_type": "execute_result"
    }
   ],
   "source": [
    "c.execute('''CREATE TABLE join_table (imdb_id text, album_uri text)''')"
   ]
  },
  {
   "cell_type": "code",
   "execution_count": 13,
   "id": "8448e5cd",
   "metadata": {},
   "outputs": [
    {
     "data": {
      "text/plain": [
       "361"
      ]
     },
     "execution_count": 13,
     "metadata": {},
     "output_type": "execute_result"
    }
   ],
   "source": [
    "join_table.to_sql('join_table', conn, if_exists='append', index = False)  #join_table"
   ]
  },
  {
   "cell_type": "code",
   "execution_count": 14,
   "id": "f5339220",
   "metadata": {},
   "outputs": [
    {
     "data": {
      "text/plain": [
       "<sqlite3.Cursor at 0x7faaa30c43b0>"
      ]
     },
     "execution_count": 14,
     "metadata": {},
     "output_type": "execute_result"
    }
   ],
   "source": [
    "c.execute('''CREATE TABLE albums (album_uri text, title text, album_date int)''')"
   ]
  },
  {
   "cell_type": "code",
   "execution_count": 15,
   "id": "6ce74e21",
   "metadata": {
    "scrolled": true
   },
   "outputs": [
    {
     "data": {
      "text/plain": [
       "361"
      ]
     },
     "execution_count": 15,
     "metadata": {},
     "output_type": "execute_result"
    }
   ],
   "source": [
    "albums.to_sql('albums', conn, if_exists='append', index = False)  #albums"
   ]
  },
  {
   "cell_type": "code",
   "execution_count": 16,
   "id": "4472b3a3",
   "metadata": {},
   "outputs": [
    {
     "data": {
      "text/plain": [
       "<sqlite3.Cursor at 0x7faaa30c43b0>"
      ]
     },
     "execution_count": 16,
     "metadata": {},
     "output_type": "execute_result"
    }
   ],
   "source": [
    "c.execute('''CREATE TABLE songs_features (album_uri text, album_title text, track_uri text, song_title text,\n",
    "             first_artist text, artists text, danceability float, energy float, key float, loudness float, \n",
    "             mode float, speechiness float, acousticness float, instrumentalness float, liveness float,\n",
    "       valence float, tempo float, duration_ms float, time_signature float)''')"
   ]
  },
  {
   "cell_type": "code",
   "execution_count": 17,
   "id": "c1e6233c",
   "metadata": {},
   "outputs": [
    {
     "data": {
      "text/plain": [
       "6613"
      ]
     },
     "execution_count": 17,
     "metadata": {},
     "output_type": "execute_result"
    }
   ],
   "source": [
    "songs_features.to_sql('songs_features', conn, if_exists='append', index = False)  #albums"
   ]
  },
  {
   "cell_type": "code",
   "execution_count": 18,
   "id": "1e4a2d43",
   "metadata": {},
   "outputs": [
    {
     "data": {
      "text/plain": [
       "<sqlite3.Cursor at 0x7faaa30c43b0>"
      ]
     },
     "execution_count": 18,
     "metadata": {},
     "output_type": "execute_result"
    }
   ],
   "source": [
    "c.execute('''CREATE TABLE films_in_depth (imdb_id text, title text, rating float, ratingcount int, certificate text,\n",
    "          genres text, gross_ww int, gross_domestic int, budget int, Aged_30_44_rat float,\n",
    "       Aged_30_44_totrat int, US_users_rat float, US_users_totrat int, Females_rat float,\n",
    "       Females_totrat int, Aged_45plus_rat float, Aged_45plus_totrat int,\n",
    "       Aged_18_29_rat float, Aged_18_29_totrat int, Males_rat float, Males_totrat int,\n",
    "       Aged_under_18_rat float, Aged_under_18_totrat int, Non_US_users_rat float,\n",
    "       Non_US_users_totrat int)''')"
   ]
  },
  {
   "cell_type": "code",
   "execution_count": 19,
   "id": "d7664ac0",
   "metadata": {},
   "outputs": [
    {
     "data": {
      "text/plain": [
       "361"
      ]
     },
     "execution_count": 19,
     "metadata": {},
     "output_type": "execute_result"
    }
   ],
   "source": [
    "films_in_depth.to_sql('films_in_depth', conn, if_exists='append', index = False)  #albums"
   ]
  }
 ],
 "metadata": {
  "kernelspec": {
   "display_name": "Python 3 (ipykernel)",
   "language": "python",
   "name": "python3"
  },
  "language_info": {
   "codemirror_mode": {
    "name": "ipython",
    "version": 3
   },
   "file_extension": ".py",
   "mimetype": "text/x-python",
   "name": "python",
   "nbconvert_exporter": "python",
   "pygments_lexer": "ipython3",
   "version": "3.9.12"
  }
 },
 "nbformat": 4,
 "nbformat_minor": 5
}
