{
 "cells": [
  {
   "cell_type": "markdown",
   "metadata": {},
   "source": [
    "## Installo le librerie richieste"
   ]
  },
  {
   "cell_type": "code",
   "execution_count": 1,
   "metadata": {
    "execution": {
     "iopub.execute_input": "2021-12-25T15:12:14.996474Z",
     "iopub.status.busy": "2021-12-25T15:12:14.995689Z",
     "iopub.status.idle": "2021-12-25T15:12:26.057354Z",
     "shell.execute_reply": "2021-12-25T15:12:26.05581Z",
     "shell.execute_reply.started": "2021-12-25T15:12:14.99641Z"
    }
   },
   "outputs": [
    {
     "name": "stdout",
     "output_type": "stream",
     "text": [
      "Requirement already satisfied: beautifulsoup4 in /opt/anaconda3/lib/python3.9/site-packages (4.11.1)\n",
      "Requirement already satisfied: soupsieve>1.2 in /opt/anaconda3/lib/python3.9/site-packages (from beautifulsoup4) (2.3.1)\n",
      "Note: you may need to restart the kernel to use updated packages.\n"
     ]
    }
   ],
   "source": [
    "pip install beautifulsoup4"
   ]
  },
  {
   "cell_type": "code",
   "execution_count": 2,
   "metadata": {
    "execution": {
     "iopub.execute_input": "2021-12-25T15:12:47.848817Z",
     "iopub.status.busy": "2021-12-25T15:12:47.848454Z",
     "iopub.status.idle": "2021-12-25T15:12:57.000153Z",
     "shell.execute_reply": "2021-12-25T15:12:56.999025Z",
     "shell.execute_reply.started": "2021-12-25T15:12:47.848778Z"
    }
   },
   "outputs": [
    {
     "name": "stdout",
     "output_type": "stream",
     "text": [
      "Requirement already satisfied: requests in /opt/anaconda3/lib/python3.9/site-packages (2.27.1)\n",
      "Requirement already satisfied: idna<4,>=2.5 in /opt/anaconda3/lib/python3.9/site-packages (from requests) (3.3)\n",
      "Requirement already satisfied: certifi>=2017.4.17 in /opt/anaconda3/lib/python3.9/site-packages (from requests) (2022.12.7)\n",
      "Requirement already satisfied: urllib3<1.27,>=1.21.1 in /opt/anaconda3/lib/python3.9/site-packages (from requests) (1.26.9)\n",
      "Requirement already satisfied: charset-normalizer~=2.0.0 in /opt/anaconda3/lib/python3.9/site-packages (from requests) (2.0.4)\n",
      "Note: you may need to restart the kernel to use updated packages.\n"
     ]
    }
   ],
   "source": [
    "pip install requests"
   ]
  },
  {
   "cell_type": "code",
   "execution_count": 3,
   "metadata": {
    "execution": {
     "iopub.execute_input": "2021-12-25T15:13:02.063136Z",
     "iopub.status.busy": "2021-12-25T15:13:02.062774Z",
     "iopub.status.idle": "2021-12-25T15:13:12.575905Z",
     "shell.execute_reply": "2021-12-25T15:13:12.57477Z",
     "shell.execute_reply.started": "2021-12-25T15:13:02.0631Z"
    }
   },
   "outputs": [
    {
     "name": "stdout",
     "output_type": "stream",
     "text": [
      "Requirement already satisfied: openpyxl in /opt/anaconda3/lib/python3.9/site-packages (3.0.9)\n",
      "Requirement already satisfied: et-xmlfile in /opt/anaconda3/lib/python3.9/site-packages (from openpyxl) (1.1.0)\n",
      "Note: you may need to restart the kernel to use updated packages.\n"
     ]
    }
   ],
   "source": [
    "pip install openpyxl"
   ]
  },
  {
   "cell_type": "markdown",
   "metadata": {},
   "source": [
    "## Imports"
   ]
  },
  {
   "cell_type": "code",
   "execution_count": 4,
   "metadata": {
    "execution": {
     "iopub.execute_input": "2021-12-25T15:15:19.717321Z",
     "iopub.status.busy": "2021-12-25T15:15:19.716931Z",
     "iopub.status.idle": "2021-12-25T15:15:20.295621Z",
     "shell.execute_reply": "2021-12-25T15:15:20.294539Z",
     "shell.execute_reply.started": "2021-12-25T15:15:19.717286Z"
    }
   },
   "outputs": [],
   "source": [
    "# Importo le librerie richieste\n",
    "from bs4 import BeautifulSoup\n",
    "import requests, openpyxl\n",
    "import pandas as pd"
   ]
  },
  {
   "cell_type": "markdown",
   "metadata": {},
   "source": [
    "## Preparing Excel Sheet"
   ]
  },
  {
   "cell_type": "code",
   "execution_count": 5,
   "metadata": {
    "execution": {
     "iopub.execute_input": "2021-12-25T15:15:38.229385Z",
     "iopub.status.busy": "2021-12-25T15:15:38.22906Z",
     "iopub.status.idle": "2021-12-25T15:15:38.238181Z",
     "shell.execute_reply": "2021-12-25T15:15:38.237118Z",
     "shell.execute_reply.started": "2021-12-25T15:15:38.229353Z"
    }
   },
   "outputs": [],
   "source": [
    "#Creazione del file excell\n",
    "excel = openpyxl.Workbook()\n",
    "sheet = excel.active"
   ]
  },
  {
   "cell_type": "code",
   "execution_count": 6,
   "metadata": {
    "execution": {
     "iopub.execute_input": "2021-12-25T15:15:46.361873Z",
     "iopub.status.busy": "2021-12-25T15:15:46.361046Z",
     "iopub.status.idle": "2021-12-25T15:15:46.366425Z",
     "shell.execute_reply": "2021-12-25T15:15:46.365661Z",
     "shell.execute_reply.started": "2021-12-25T15:15:46.361818Z"
    }
   },
   "outputs": [],
   "source": [
    "#Cambio nome del file\n",
    "sheet.title = 'IMDb Top 250 Movies'"
   ]
  },
  {
   "cell_type": "code",
   "execution_count": 7,
   "metadata": {
    "execution": {
     "iopub.execute_input": "2021-12-25T15:15:55.208099Z",
     "iopub.status.busy": "2021-12-25T15:15:55.207478Z",
     "iopub.status.idle": "2021-12-25T15:15:55.21266Z",
     "shell.execute_reply": "2021-12-25T15:15:55.211796Z",
     "shell.execute_reply.started": "2021-12-25T15:15:55.20806Z"
    }
   },
   "outputs": [],
   "source": [
    "#Aggiungo l'intestazione\n",
    "sheet.append(['Rank','Movie Name','Year of release','IMDB Rating'])"
   ]
  },
  {
   "cell_type": "markdown",
   "metadata": {},
   "source": [
    "## Web Scraper"
   ]
  },
  {
   "cell_type": "code",
   "execution_count": 8,
   "metadata": {
    "execution": {
     "iopub.execute_input": "2021-12-25T15:18:30.084407Z",
     "iopub.status.busy": "2021-12-25T15:18:30.084055Z",
     "iopub.status.idle": "2021-12-25T15:18:32.021708Z",
     "shell.execute_reply": "2021-12-25T15:18:32.020887Z",
     "shell.execute_reply.started": "2021-12-25T15:18:30.084374Z"
    }
   },
   "outputs": [
    {
     "name": "stdout",
     "output_type": "stream",
     "text": [
      "1 Le ali della libertà 1994 9.2\n",
      "2 Il padrino 1972 9.2\n",
      "3 Il cavaliere oscuro 2008 9.0\n",
      "4 Il padrino - Parte II 1974 9.0\n",
      "5 La parola ai giurati 1957 9.0\n",
      "6 Schindler's List 1993 8.9\n",
      "7 Il Signore degli Anelli - Il ritorno del re 2003 8.9\n",
      "8 Pulp Fiction 1994 8.8\n",
      "9 Il Signore degli Anelli - La compagnia dell'Anello 2001 8.8\n",
      "10 Il buono, il brutto, il cattivo 1966 8.8\n",
      "11 Forrest Gump 1994 8.8\n",
      "12 Fight Club 1999 8.7\n",
      "13 Il Signore degli Anelli - Le due torri 2002 8.7\n",
      "14 Inception 2010 8.7\n",
      "15 L'Impero colpisce ancora 1980 8.7\n",
      "16 Matrix 1999 8.7\n",
      "17 Quei bravi ragazzi 1990 8.7\n",
      "18 Qualcuno volò sul nido del cuculo 1975 8.6\n",
      "19 Seven 1995 8.6\n",
      "20 I sette samurai 1954 8.6\n",
      "21 La vita è meravigliosa 1946 8.6\n",
      "22 Il silenzio degli innocenti 1991 8.6\n",
      "23 City of God 2002 8.6\n",
      "24 Salvate il soldato Ryan 1998 8.6\n",
      "25 Interstellar 2014 8.6\n",
      "26 La vita è bella 1997 8.6\n",
      "27 Il miglio verde 1999 8.6\n",
      "28 Guerre stellari 1977 8.5\n",
      "29 Terminator 2 - Il giorno del giudizio 1991 8.5\n",
      "30 Ritorno al futuro 1985 8.5\n",
      "31 La città incantata 2001 8.5\n",
      "32 Il pianista 2002 8.5\n",
      "33 Psyco 1960 8.5\n",
      "34 Parasite 2019 8.5\n",
      "35 Léon 1994 8.5\n",
      "36 Il Re Leone 1994 8.5\n",
      "37 Il gladiatore 2000 8.5\n",
      "38 American History X 1998 8.5\n",
      "39 The Departed - Il bene e il male 2006 8.5\n",
      "40 I soliti sospetti 1995 8.5\n",
      "41 The Prestige 2006 8.5\n",
      "42 Whiplash 2014 8.5\n",
      "43 Casablanca 1942 8.5\n",
      "44 Una tomba per le lucciole 1988 8.5\n",
      "45 Harakiri 1962 8.5\n",
      "46 Quasi amici - Intouchables 2011 8.5\n",
      "47 Tempi moderni 1936 8.4\n",
      "48 C'era una volta il West 1968 8.4\n",
      "49 La finestra sul cortile 1954 8.4\n",
      "50 Nuovo Cinema Paradiso 1988 8.4\n",
      "51 Alien 1979 8.4\n",
      "52 Luci della città 1931 8.4\n",
      "53 Apocalypse Now 1979 8.4\n",
      "54 Memento 2000 8.4\n",
      "55 Django Unchained 2012 8.4\n",
      "56 I predatori dell'arca perduta 1981 8.4\n",
      "57 WALL·E 2008 8.4\n",
      "58 Le vite degli altri 2006 8.4\n",
      "59 Viale del tramonto 1950 8.4\n",
      "60 Orizzonti di gloria 1957 8.4\n",
      "61 Shining 1980 8.4\n",
      "62 Il grande dittatore 1940 8.4\n",
      "63 Avengers: Infinity War 2018 8.4\n",
      "64 Testimone d'accusa 1957 8.4\n",
      "65 Aliens - Scontro finale 1986 8.3\n",
      "66 Spider-Man: Un nuovo universo 2018 8.3\n",
      "67 American Beauty 1999 8.3\n",
      "68 Il dottor Stranamore - Ovvero: come ho imparato a non preoccuparmi e ad amare la bomba 1964 8.3\n",
      "69 Il cavaliere oscuro - Il ritorno 2012 8.3\n",
      "70 Oldboy 2003 8.3\n",
      "71 Bastardi senza gloria 2009 8.3\n",
      "72 Amadeus 1984 8.3\n",
      "73 Coco 2017 8.3\n",
      "74 Toy Story - Il mondo dei giocattoli 1995 8.3\n",
      "75 Joker 2019 8.3\n",
      "76 Braveheart - Cuore impavido 1995 8.3\n",
      "77 U-Boot 96 1981 8.3\n",
      "78 Avengers: Endgame 2019 8.3\n",
      "79 Principessa Mononoke 1997 8.3\n",
      "80 C'era una volta in America 1984 8.3\n",
      "81 Will Hunting - Genio ribelle 1997 8.3\n",
      "82 Your Name. 2016 8.3\n",
      "83 3 Idiots 2009 8.3\n",
      "84 Cantando sotto la pioggia 1952 8.3\n",
      "85 Requiem for a Dream 2000 8.3\n",
      "86 Toy Story 3 - La grande fuga 2010 8.3\n",
      "87 Anatomia di un rapimento 1963 8.3\n",
      "88 Cafarnao - Caos e miracoli 2018 8.3\n",
      "89 Il ritorno dello Jedi 1983 8.3\n",
      "90 Se mi lasci ti cancello 2004 8.3\n",
      "91 2001: Odissea nello spazio 1968 8.3\n",
      "92 Le iene 1992 8.3\n",
      "93 Va' e vedi 1985 8.3\n",
      "94 Il sospetto 2012 8.3\n",
      "95 Quarto potere 1941 8.3\n",
      "96 M - Il mostro di Düsseldorf 1931 8.3\n",
      "97 Lawrence d'Arabia 1962 8.3\n",
      "98 Intrigo internazionale 1959 8.2\n",
      "99 La donna che visse due volte 1958 8.2\n",
      "100 Il favoloso mondo di Amélie 2001 8.2\n",
      "101 Vivere 1952 8.2\n",
      "102 L'appartamento 1960 8.2\n",
      "103 Arancia meccanica 1971 8.2\n",
      "104 Top Gun: Maverick 2022 8.2\n",
      "105 La fiamma del peccato 1944 8.2\n",
      "106 Full Metal Jacket 1987 8.2\n",
      "107 Scarface 1983 8.2\n",
      "108 Hamilton 2020 8.2\n",
      "109 La donna che canta 2010 8.2\n",
      "110 Il buio oltre la siepe 1962 8.2\n",
      "111 Heat - La sfida 1995 8.2\n",
      "112 La stangata 1973 8.2\n",
      "113 Up 2009 8.2\n",
      "114 Una separazione 2011 8.2\n",
      "115 Taxi Driver 1976 8.2\n",
      "116 Metropolis 1927 8.2\n",
      "117 L.A. Confidential 1997 8.2\n",
      "118 Trappola di cristallo 1988 8.2\n",
      "119 Snatch - Lo strappo 2000 8.2\n",
      "120 Indiana Jones e l'ultima crociata 1989 8.2\n",
      "121 Ladri di biciclette 1948 8.2\n",
      "122 Stelle sulla Terra 2007 8.2\n",
      "123 1917 2019 8.2\n",
      "124 La caduta - Gli ultimi giorni di Hitler 2004 8.2\n",
      "125 Dangal 2016 8.2\n",
      "126 Per qualche dollaro in più 1965 8.2\n",
      "127 Batman Begins 2005 8.2\n",
      "128 Il monello 1921 8.2\n",
      "129 A qualcuno piace caldo 1959 8.2\n",
      "130 The Father 2020 8.2\n",
      "131 Eva contro Eva 1950 8.2\n",
      "132 Green Book 2018 8.2\n",
      "133 The Wolf of Wall Street 2013 8.2\n",
      "134 Vincitori e vinti 1961 8.2\n",
      "135 Casinò 1995 8.2\n",
      "136 Ran 1985 8.2\n",
      "137 Il labirinto del fauno 2006 8.2\n",
      "138 The Truman Show 1998 8.2\n",
      "139 Il petroliere 2007 8.2\n",
      "140 Gli spietati 1992 8.2\n",
      "141 The Sixth Sense - Il sesto senso 1999 8.2\n",
      "142 Shutter Island 2010 8.2\n",
      "143 A Beautiful Mind 2001 8.2\n",
      "144 Jurassic Park 1993 8.1\n",
      "145 La sfida del samurai 1961 8.1\n",
      "146 Il tesoro della Sierra Madre 1948 8.1\n",
      "147 Monty Python e il Sacro Graal 1975 8.1\n",
      "148 La grande fuga 1963 8.1\n",
      "149 Spider-Man: No Way Home 2021 8.1\n",
      "150 Non è un paese per vecchi 2007 8.1\n",
      "151 Kill Bill - Volume 1 2003 8.1\n",
      "152 Rashomon 1950 8.1\n",
      "153 La cosa 1982 8.1\n",
      "154 Alla ricerca di Nemo 2003 8.1\n",
      "155 The Elephant Man 1980 8.1\n",
      "156 Chinatown 1974 8.1\n",
      "157 Toro scatenato 1980 8.1\n",
      "158 V per Vendetta 2005 8.1\n",
      "159 Via col vento 1939 8.1\n",
      "160 Lock & Stock - Pazzi scatenati 1998 8.1\n",
      "161 Inside Out 2015 8.1\n",
      "162 Il delitto perfetto 1954 8.1\n",
      "163 Il segreto dei suoi occhi 2009 8.1\n",
      "164 Il castello errante di Howl 2004 8.1\n",
      "165 Tre manifesti a Ebbing, Missouri 2017 8.1\n",
      "166 Il ponte sul fiume Kwai 1957 8.1\n",
      "167 Trainspotting 1996 8.1\n",
      "168 Prisoners 2013 8.1\n",
      "169 Warrior 2011 8.1\n",
      "170 Fargo 1996 8.1\n",
      "171 Gran Torino 2008 8.1\n",
      "172 Il mio vicino Totoro 1988 8.1\n",
      "173 Prova a prendermi 2002 8.1\n",
      "174 Million Dollar Baby 2004 8.1\n",
      "175 I bambini del cielo 1997 8.1\n",
      "176 Blade Runner 1982 8.1\n",
      "177 La febbre dell'oro 1925 8.1\n",
      "178 Prima dell'alba 1995 8.1\n",
      "179 12 anni schiavo 2013 8.1\n",
      "180 Klaus: I segreti del Natale 2019 8.1\n",
      "181 Harry Potter e i Doni della Morte - Parte 2 2011 8.1\n",
      "182 Fronte del porto 1954 8.1\n",
      "183 Ben-Hur 1959 8.1\n",
      "184 L'amore bugiardo - Gone Girl 2014 8.1\n",
      "185 Grand Budapest Hotel 2014 8.1\n",
      "186 Il posto delle fragole 1957 8.1\n",
      "187 Come vinsi la guerra 1926 8.1\n",
      "188 Il terzo uomo 1949 8.1\n",
      "189 Nel nome del padre 1993 8.1\n",
      "190 Il cacciatore 1978 8.1\n",
      "191 Barry Lyndon 1975 8.1\n",
      "192 La battaglia di Hacksaw Ridge 2016 8.1\n",
      "193 Vite vendute 1953 8.1\n",
      "194 Memorie di un assassino 2003 8.1\n",
      "195 La palla n° 13 1924 8.1\n",
      "196 Storie Pazzesche 2014 8.1\n",
      "197 Mr. Smith va a Washington 1939 8.1\n",
      "198 Mad Max: Fury Road 2015 8.1\n",
      "199 Il settimo sigillo 1957 8.1\n",
      "200 Mary and Max 2009 8.1\n",
      "201 Dragon Trainer 2010 8.1\n",
      "202 Room 2015 8.1\n",
      "203 Monsters & Co. 2001 8.1\n",
      "204 Lo squalo 1975 8.1\n",
      "205 Il grande Lebowski 1998 8.1\n",
      "206 L'attimo fuggente 1989 8.1\n",
      "207 Viaggio a Tokyo 1953 8.1\n",
      "208 La passione di Giovanna d'Arco 1928 8.1\n",
      "209 Hotel Rwanda 2004 8.0\n",
      "210 Le Mans '66 - La grande sfida 2019 8.0\n",
      "211 Rocky 1976 8.0\n",
      "212 Platoon 1986 8.0\n",
      "213 Ratatouille 2007 8.0\n",
      "214 Il caso Spotlight 2015 8.0\n",
      "215 Terminator 1984 8.0\n",
      "216 Logan - The Wolverine 2017 8.0\n",
      "217 Stand by Me - Ricordo di un'estate 1986 8.0\n",
      "218 Rush 2013 8.0\n",
      "219 Quinto potere 1976 8.0\n",
      "220 Into the Wild - Nelle terre selvagge 2007 8.0\n",
      "221 Prima del tramonto 2004 8.0\n",
      "222 Il mago di Oz 1939 8.0\n",
      "223 Il lamento sul sentiero 1955 8.0\n",
      "224 Ricomincio da capo 1993 8.0\n",
      "225 I migliori anni della nostra vita 1946 8.0\n",
      "226 L'esorcista 1973 8.0\n",
      "227 Gli Incredibili - Una 'normale' famiglia di supereroi 2004 8.0\n",
      "228 Vogliamo vivere! 1942 8.0\n",
      "229 L'odio 1995 8.0\n",
      "230 La battaglia di Algeri 1966 8.0\n",
      "231 La maledizione della prima luna 2003 8.0\n",
      "232 Hachiko - Il tuo migliore amico 2009 8.0\n",
      "233 Furore 1940 8.0\n",
      "234 Mio padre e mio figlio 2005 8.0\n",
      "235 Jai Bhim 2021 8.0\n",
      "236 Amores perros 2000 8.0\n",
      "237 Rebecca - La prima moglie 1940 8.0\n",
      "238 Nick mano fredda 1967 8.0\n",
      "239 Mademoiselle 2016 8.0\n",
      "240 I 400 colpi 1959 8.0\n",
      "241 Tutti insieme appassionatamente 1965 8.0\n",
      "242 Accadde una notte 1934 8.0\n",
      "243 Persona 1966 8.0\n",
      "244 Brian di Nazareth 1979 8.0\n",
      "245 Il gigante di ferro 1999 8.0\n",
      "246 The Help 2011 8.0\n",
      "247 Dersu Uzala, il piccolo uomo delle grandi pianure 1975 8.0\n",
      "248 Aladdin 1992 8.0\n",
      "249 Gandhi 1982 8.0\n",
      "250 Balla coi lupi 1990 8.0\n"
     ]
    }
   ],
   "source": [
    "# Scarping dei dati  \n",
    "\n",
    "html = requests.get('https://www.imdb.com/chart/top/')\n",
    "html.raise_for_status()\n",
    "\n",
    "soup = BeautifulSoup(html.text,'html.parser')\n",
    "movies = soup.find('tbody',class_='lister-list').find_all('tr')\n",
    "for movie in movies:\n",
    "    name = movie.find('td',class_='titleColumn').a.text\n",
    "    rank = movie.find('td',class_='titleColumn').get_text(strip=True).split('.')[0]\n",
    "        \n",
    "    year = movie.find('td',class_='titleColumn').span.text.strip('()')\n",
    "    rating = movie.find('td',class_='ratingColumn imdbRating').strong.text\n",
    "    print(rank,name, year, rating)\n",
    "    sheet.append([rank,name, year, rating])\n",
    "\n"
   ]
  },
  {
   "cell_type": "markdown",
   "metadata": {},
   "source": [
    "Salvo il file in formato excell"
   ]
  },
  {
   "cell_type": "code",
   "execution_count": 9,
   "metadata": {
    "execution": {
     "iopub.execute_input": "2021-12-25T15:18:37.622556Z",
     "iopub.status.busy": "2021-12-25T15:18:37.621785Z",
     "iopub.status.idle": "2021-12-25T15:18:37.65437Z",
     "shell.execute_reply": "2021-12-25T15:18:37.653297Z",
     "shell.execute_reply.started": "2021-12-25T15:18:37.6225Z"
    }
   },
   "outputs": [],
   "source": [
    "\n",
    "excel.save('/Users/lucaspezia/Desktop/CODICI/FUTURE IMPROVEMENT/IMDb Top 250 Movies.xlsx')"
   ]
  },
  {
   "cell_type": "markdown",
   "metadata": {},
   "source": [
    "salvo il file in fromatoi csv"
   ]
  },
  {
   "cell_type": "code",
   "execution_count": 10,
   "metadata": {},
   "outputs": [],
   "source": [
    "excell=pd.read_excel(\"/Users/lucaspezia/Desktop/CODICI/FUTURE IMPROVEMENT/IMDb Top 250 Movies.xlsx\")\n",
    "excell.to_csv(\"/Users/lucaspezia/Desktop/CODICI/FUTURE IMPROVEMENT/IMDb Top 250 Movies.csv\")"
   ]
  }
 ],
 "metadata": {
  "kernelspec": {
   "display_name": "Python 3 (ipykernel)",
   "language": "python",
   "name": "python3"
  },
  "language_info": {
   "codemirror_mode": {
    "name": "ipython",
    "version": 3
   },
   "file_extension": ".py",
   "mimetype": "text/x-python",
   "name": "python",
   "nbconvert_exporter": "python",
   "pygments_lexer": "ipython3",
   "version": "3.9.12"
  }
 },
 "nbformat": 4,
 "nbformat_minor": 4
}
