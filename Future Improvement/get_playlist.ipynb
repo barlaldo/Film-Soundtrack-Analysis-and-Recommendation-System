{
 "cells": [
  {
   "cell_type": "markdown",
   "id": "5aad6674",
   "metadata": {},
   "source": [
    "# Creazione del dataset per impostare la futura app"
   ]
  },
  {
   "cell_type": "code",
   "execution_count": 1,
   "id": "2e99e7f7",
   "metadata": {},
   "outputs": [],
   "source": [
    "import spotipy               ###importo pacchetto spotify, per richiedere \n",
    "from spotipy.oauth2 import SpotifyClientCredentials   \n",
    "import json\n",
    "import pandas as pd"
   ]
  },
  {
   "cell_type": "code",
   "execution_count": 2,
   "id": "5639aa75",
   "metadata": {},
   "outputs": [],
   "source": [
    "credentials = json.load(open('autorizzazione.json'))   ###importo le credenziali per accedere alle api di spotify\n",
    "client_id = credentials['client_id']\n",
    "client_secret = credentials['client_secret']"
   ]
  },
  {
   "cell_type": "code",
   "execution_count": 3,
   "id": "80db642a",
   "metadata": {},
   "outputs": [],
   "source": [
    "client_credentials_manager = SpotifyClientCredentials(client_id=client_id,client_secret=client_secret)\n",
    "sp = spotipy.Spotify(client_credentials_manager=client_credentials_manager)    ###importo la libreria spotify"
   ]
  },
  {
   "cell_type": "code",
   "execution_count": 48,
   "id": "e60048da",
   "metadata": {},
   "outputs": [],
   "source": [
    "listaid=[]\n",
    "listanomisong=[]\n",
    "listanomiartisti=[]\n",
    "URI=\"37i9dQZF1DWTmvXBN4DgpA\" ### uri della playlist top 2000 di spotify\n",
    "a=50\n",
    "for x in range(0,40):             \n",
    "    iteratore=x*50                \n",
    "    idp=sp.playlist_tracks(URI, limit=50, offset=iteratore)    \n",
    "    if iteratore==1950:        ### per evitare che il codice si blocchi, inserisco un controllo specifico per questa plalist\n",
    "        a=49\n",
    "    for i in range(0,a):\n",
    "        \n",
    "        listaid.append(idp[\"items\"][i][\"track\"][\"id\"])\n",
    "        listanomisong.append(idp[\"items\"][i][\"track\"][\"name\"])\n",
    "        listanomiartisti.append(idp[\"items\"][i][\"track\"][\"artists\"][0][\"name\"])\n",
    "future_tracks=pd.DataFrame(data=listaid)\n",
    "future_tracks[\"title_track\"]=listanomisong\n",
    "future_tracks[\"artist\"]=listanomiartisti"
   ]
  },
  {
   "cell_type": "markdown",
   "id": "e83eef9c",
   "metadata": {},
   "source": [
    "cambio nome della colonna che contiene le uri"
   ]
  },
  {
   "cell_type": "code",
   "execution_count": 51,
   "id": "cd822c61",
   "metadata": {},
   "outputs": [],
   "source": [
    "future_tracks=future_tracks.rename(columns={0:\"track_uri\"})"
   ]
  },
  {
   "cell_type": "markdown",
   "id": "fb0d0ae7",
   "metadata": {},
   "source": [
    "salvataggio del dataset"
   ]
  },
  {
   "cell_type": "code",
   "execution_count": 53,
   "id": "154ff502",
   "metadata": {},
   "outputs": [],
   "source": [
    "future_tracks.to_csv(\"/Users/lucaspezia/Desktop/CODICI/FUTURE IMPROVEMENT/future_tracks.csv\")"
   ]
  }
 ],
 "metadata": {
  "kernelspec": {
   "display_name": "Python 3 (ipykernel)",
   "language": "python",
   "name": "python3"
  },
  "language_info": {
   "codemirror_mode": {
    "name": "ipython",
    "version": 3
   },
   "file_extension": ".py",
   "mimetype": "text/x-python",
   "name": "python",
   "nbconvert_exporter": "python",
   "pygments_lexer": "ipython3",
   "version": "3.9.12"
  }
 },
 "nbformat": 4,
 "nbformat_minor": 5
}
