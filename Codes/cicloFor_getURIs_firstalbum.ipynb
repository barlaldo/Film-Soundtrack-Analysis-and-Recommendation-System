{
 "cells": [
  {
   "cell_type": "markdown",
   "id": "a59ea9ed",
   "metadata": {},
   "source": [
    "### estrazione uri degli album da spotify"
   ]
  },
  {
   "cell_type": "code",
   "execution_count": 1,
   "id": "ae510ded",
   "metadata": {},
   "outputs": [],
   "source": [
    "import spotipy               ###importo pacchetto spotify, per richiedere \n",
    "from spotipy.oauth2 import SpotifyClientCredentials   \n",
    "import json\n",
    "import pandas as pd"
   ]
  },
  {
   "cell_type": "code",
   "execution_count": 3,
   "id": "7bd443e2",
   "metadata": {},
   "outputs": [],
   "source": [
    "credentials = json.load(open('autorizzazione.json'))   ###importo le credenziali per accedere alle api di spotify\n",
    "client_id = credentials['client_id']\n",
    "client_secret = credentials['client_secret']"
   ]
  },
  {
   "cell_type": "code",
   "execution_count": 4,
   "id": "a35a7b4b",
   "metadata": {},
   "outputs": [],
   "source": [
    "client_credentials_manager = SpotifyClientCredentials(client_id=client_id,client_secret=client_secret)\n",
    "sp = spotipy.Spotify(client_credentials_manager=client_credentials_manager)    ###importo la libreria spotify"
   ]
  },
  {
   "cell_type": "code",
   "execution_count": 5,
   "id": "ad9099ed",
   "metadata": {},
   "outputs": [],
   "source": [
    "uri={}\n",
    "titoli={}\n",
    "anni={}\n",
    "for x in range(0,20):             ###ciclo for per esrarre gli album da spotify che contengono Original Motion Picture nel titolo\n",
    "    iteratore=x*50                ### serve per aggirare il limite di 50 album estratti del comdando .serach\n",
    "    research = sp.search(\"Original Motion Picture\", limit=50, offset=iteratore, type='album', market=None)\n",
    "    for i in range(0,50):\n",
    "        titoli[iteratore+i]=research[\"albums\"][\"items\"][i][\"name\"]\n",
    "        uri[iteratore+i]=research[\"albums\"][\"items\"][i][\"uri\"]\n",
    "        anni[iteratore+i]=research[\"albums\"][\"items\"][i][\"release_date\"]"
   ]
  },
  {
   "cell_type": "markdown",
   "id": "e76518c4",
   "metadata": {},
   "source": [
    "### passaggio da dizionario a dataframe"
   ]
  },
  {
   "cell_type": "code",
   "execution_count": 6,
   "id": "ea79586d",
   "metadata": {},
   "outputs": [],
   "source": [
    "listatitoli=pd.DataFrame.from_dict(data=titoli, orient=\"index\")         \n",
    "listauri=pd.DataFrame.from_dict(data=uri, orient=\"index\")     \n",
    "listaanni=pd.DataFrame.from_dict(data=anni, orient=\"index\")"
   ]
  },
  {
   "cell_type": "code",
   "execution_count": 7,
   "id": "08118dcc",
   "metadata": {},
   "outputs": [],
   "source": [
    "listatitoli=listatitoli.rename(columns={\"O\":\"index\"})\n",
    "listauri=listauri.rename(columns={\"O\":\"index\"})\n",
    "listaanni=listaanni.rename(columns={\"O\":\"index\"})"
   ]
  },
  {
   "cell_type": "code",
   "execution_count": 8,
   "id": "ebc77153",
   "metadata": {},
   "outputs": [],
   "source": [
    "listatitoli=listatitoli.reset_index()\n",
    "listauri=listauri.reset_index()\n",
    "listaanni=listaanni.reset_index()"
   ]
  },
  {
   "cell_type": "code",
   "execution_count": 9,
   "id": "5cb6ff28",
   "metadata": {
    "scrolled": false
   },
   "outputs": [
    {
     "data": {
      "text/html": [
       "<div>\n",
       "<style scoped>\n",
       "    .dataframe tbody tr th:only-of-type {\n",
       "        vertical-align: middle;\n",
       "    }\n",
       "\n",
       "    .dataframe tbody tr th {\n",
       "        vertical-align: top;\n",
       "    }\n",
       "\n",
       "    .dataframe thead th {\n",
       "        text-align: right;\n",
       "    }\n",
       "</style>\n",
       "<table border=\"1\" class=\"dataframe\">\n",
       "  <thead>\n",
       "    <tr style=\"text-align: right;\">\n",
       "      <th></th>\n",
       "      <th>index</th>\n",
       "      <th>0</th>\n",
       "    </tr>\n",
       "  </thead>\n",
       "  <tbody>\n",
       "    <tr>\n",
       "      <th>0</th>\n",
       "      <td>0</td>\n",
       "      <td>2021-11-19</td>\n",
       "    </tr>\n",
       "    <tr>\n",
       "      <th>1</th>\n",
       "      <td>1</td>\n",
       "      <td>2016-11-18</td>\n",
       "    </tr>\n",
       "    <tr>\n",
       "      <th>2</th>\n",
       "      <td>2</td>\n",
       "      <td>2013-01-01</td>\n",
       "    </tr>\n",
       "    <tr>\n",
       "      <th>3</th>\n",
       "      <td>3</td>\n",
       "      <td>2017-12-08</td>\n",
       "    </tr>\n",
       "    <tr>\n",
       "      <th>4</th>\n",
       "      <td>4</td>\n",
       "      <td>2019-11-15</td>\n",
       "    </tr>\n",
       "  </tbody>\n",
       "</table>\n",
       "</div>"
      ],
      "text/plain": [
       "   index           0\n",
       "0      0  2021-11-19\n",
       "1      1  2016-11-18\n",
       "2      2  2013-01-01\n",
       "3      3  2017-12-08\n",
       "4      4  2019-11-15"
      ]
     },
     "execution_count": 9,
     "metadata": {},
     "output_type": "execute_result"
    }
   ],
   "source": [
    "listauri.head()\n",
    "listatitoli.head()\n",
    "listaanni.head()"
   ]
  },
  {
   "cell_type": "markdown",
   "id": "c2c178d1",
   "metadata": {},
   "source": [
    "### unione dei tre dataframe per creare il dataframe iniziale"
   ]
  },
  {
   "cell_type": "code",
   "execution_count": 10,
   "id": "990c07cc",
   "metadata": {},
   "outputs": [],
   "source": [
    "listafilm=pd.merge(listatitoli, listauri, on=\"index\")"
   ]
  },
  {
   "cell_type": "code",
   "execution_count": 15,
   "id": "b7a40f3c",
   "metadata": {},
   "outputs": [
    {
     "data": {
      "text/html": [
       "<div>\n",
       "<style scoped>\n",
       "    .dataframe tbody tr th:only-of-type {\n",
       "        vertical-align: middle;\n",
       "    }\n",
       "\n",
       "    .dataframe tbody tr th {\n",
       "        vertical-align: top;\n",
       "    }\n",
       "\n",
       "    .dataframe thead th {\n",
       "        text-align: right;\n",
       "    }\n",
       "</style>\n",
       "<table border=\"1\" class=\"dataframe\">\n",
       "  <thead>\n",
       "    <tr style=\"text-align: right;\">\n",
       "      <th></th>\n",
       "      <th>index</th>\n",
       "      <th>0_x</th>\n",
       "      <th>0_y</th>\n",
       "    </tr>\n",
       "  </thead>\n",
       "  <tbody>\n",
       "    <tr>\n",
       "      <th>0</th>\n",
       "      <td>0</td>\n",
       "      <td>Encanto (Original Motion Picture Soundtrack)</td>\n",
       "      <td>spotify:album:25L8ck3KGcmCo3901ztPzR</td>\n",
       "    </tr>\n",
       "    <tr>\n",
       "      <th>1</th>\n",
       "      <td>1</td>\n",
       "      <td>Moana (Original Motion Picture Soundtrack/Delu...</td>\n",
       "      <td>spotify:album:6pZj4nvx6lV3ulIK3BSjvs</td>\n",
       "    </tr>\n",
       "    <tr>\n",
       "      <th>2</th>\n",
       "      <td>2</td>\n",
       "      <td>Frozen (Original Motion Picture Soundtrack / D...</td>\n",
       "      <td>spotify:album:7lZs5r4oQV2nutddffLrg0</td>\n",
       "    </tr>\n",
       "    <tr>\n",
       "      <th>3</th>\n",
       "      <td>3</td>\n",
       "      <td>The Greatest Showman (Original Motion Picture ...</td>\n",
       "      <td>spotify:album:7ayBZIe1FHkNv0T5xFCX6F</td>\n",
       "    </tr>\n",
       "    <tr>\n",
       "      <th>4</th>\n",
       "      <td>4</td>\n",
       "      <td>Frozen 2 (Original Motion Picture Soundtrack/D...</td>\n",
       "      <td>spotify:album:4M07HWIlZr7zoXoxDHR5mz</td>\n",
       "    </tr>\n",
       "  </tbody>\n",
       "</table>\n",
       "</div>"
      ],
      "text/plain": [
       "   index                                                0_x  \\\n",
       "0      0       Encanto (Original Motion Picture Soundtrack)   \n",
       "1      1  Moana (Original Motion Picture Soundtrack/Delu...   \n",
       "2      2  Frozen (Original Motion Picture Soundtrack / D...   \n",
       "3      3  The Greatest Showman (Original Motion Picture ...   \n",
       "4      4  Frozen 2 (Original Motion Picture Soundtrack/D...   \n",
       "\n",
       "                                    0_y  \n",
       "0  spotify:album:25L8ck3KGcmCo3901ztPzR  \n",
       "1  spotify:album:6pZj4nvx6lV3ulIK3BSjvs  \n",
       "2  spotify:album:7lZs5r4oQV2nutddffLrg0  \n",
       "3  spotify:album:7ayBZIe1FHkNv0T5xFCX6F  \n",
       "4  spotify:album:4M07HWIlZr7zoXoxDHR5mz  "
      ]
     },
     "execution_count": 15,
     "metadata": {},
     "output_type": "execute_result"
    }
   ],
   "source": [
    "listafilm.head()"
   ]
  },
  {
   "cell_type": "code",
   "execution_count": 12,
   "id": "8a5f674a",
   "metadata": {},
   "outputs": [],
   "source": [
    "listacompleta=pd.merge(listafilm, listaanni, on=\"index\")"
   ]
  },
  {
   "cell_type": "code",
   "execution_count": 17,
   "id": "57867d5a",
   "metadata": {},
   "outputs": [
    {
     "data": {
      "text/html": [
       "<div>\n",
       "<style scoped>\n",
       "    .dataframe tbody tr th:only-of-type {\n",
       "        vertical-align: middle;\n",
       "    }\n",
       "\n",
       "    .dataframe tbody tr th {\n",
       "        vertical-align: top;\n",
       "    }\n",
       "\n",
       "    .dataframe thead th {\n",
       "        text-align: right;\n",
       "    }\n",
       "</style>\n",
       "<table border=\"1\" class=\"dataframe\">\n",
       "  <thead>\n",
       "    <tr style=\"text-align: right;\">\n",
       "      <th></th>\n",
       "      <th>index</th>\n",
       "      <th>0_x</th>\n",
       "      <th>0_y</th>\n",
       "      <th>0</th>\n",
       "    </tr>\n",
       "  </thead>\n",
       "  <tbody>\n",
       "    <tr>\n",
       "      <th>0</th>\n",
       "      <td>0</td>\n",
       "      <td>Encanto (Original Motion Picture Soundtrack)</td>\n",
       "      <td>spotify:album:25L8ck3KGcmCo3901ztPzR</td>\n",
       "      <td>2021-11-19</td>\n",
       "    </tr>\n",
       "    <tr>\n",
       "      <th>1</th>\n",
       "      <td>1</td>\n",
       "      <td>Moana (Original Motion Picture Soundtrack/Delu...</td>\n",
       "      <td>spotify:album:6pZj4nvx6lV3ulIK3BSjvs</td>\n",
       "      <td>2016-11-18</td>\n",
       "    </tr>\n",
       "    <tr>\n",
       "      <th>2</th>\n",
       "      <td>2</td>\n",
       "      <td>Frozen (Original Motion Picture Soundtrack / D...</td>\n",
       "      <td>spotify:album:7lZs5r4oQV2nutddffLrg0</td>\n",
       "      <td>2013-01-01</td>\n",
       "    </tr>\n",
       "    <tr>\n",
       "      <th>3</th>\n",
       "      <td>3</td>\n",
       "      <td>The Greatest Showman (Original Motion Picture ...</td>\n",
       "      <td>spotify:album:7ayBZIe1FHkNv0T5xFCX6F</td>\n",
       "      <td>2017-12-08</td>\n",
       "    </tr>\n",
       "    <tr>\n",
       "      <th>4</th>\n",
       "      <td>4</td>\n",
       "      <td>Frozen 2 (Original Motion Picture Soundtrack/D...</td>\n",
       "      <td>spotify:album:4M07HWIlZr7zoXoxDHR5mz</td>\n",
       "      <td>2019-11-15</td>\n",
       "    </tr>\n",
       "  </tbody>\n",
       "</table>\n",
       "</div>"
      ],
      "text/plain": [
       "   index                                                0_x  \\\n",
       "0      0       Encanto (Original Motion Picture Soundtrack)   \n",
       "1      1  Moana (Original Motion Picture Soundtrack/Delu...   \n",
       "2      2  Frozen (Original Motion Picture Soundtrack / D...   \n",
       "3      3  The Greatest Showman (Original Motion Picture ...   \n",
       "4      4  Frozen 2 (Original Motion Picture Soundtrack/D...   \n",
       "\n",
       "                                    0_y           0  \n",
       "0  spotify:album:25L8ck3KGcmCo3901ztPzR  2021-11-19  \n",
       "1  spotify:album:6pZj4nvx6lV3ulIK3BSjvs  2016-11-18  \n",
       "2  spotify:album:7lZs5r4oQV2nutddffLrg0  2013-01-01  \n",
       "3  spotify:album:7ayBZIe1FHkNv0T5xFCX6F  2017-12-08  \n",
       "4  spotify:album:4M07HWIlZr7zoXoxDHR5mz  2019-11-15  "
      ]
     },
     "execution_count": 17,
     "metadata": {},
     "output_type": "execute_result"
    }
   ],
   "source": [
    "listacompleta.head()"
   ]
  },
  {
   "cell_type": "code",
   "execution_count": 18,
   "id": "897dcaec",
   "metadata": {},
   "outputs": [],
   "source": [
    "listacompleta=listacompleta.rename(columns={0:\"date\"})"
   ]
  },
  {
   "cell_type": "code",
   "execution_count": 20,
   "id": "96685f20",
   "metadata": {},
   "outputs": [
    {
     "data": {
      "text/html": [
       "<div>\n",
       "<style scoped>\n",
       "    .dataframe tbody tr th:only-of-type {\n",
       "        vertical-align: middle;\n",
       "    }\n",
       "\n",
       "    .dataframe tbody tr th {\n",
       "        vertical-align: top;\n",
       "    }\n",
       "\n",
       "    .dataframe thead th {\n",
       "        text-align: right;\n",
       "    }\n",
       "</style>\n",
       "<table border=\"1\" class=\"dataframe\">\n",
       "  <thead>\n",
       "    <tr style=\"text-align: right;\">\n",
       "      <th></th>\n",
       "      <th>index</th>\n",
       "      <th>0_x</th>\n",
       "      <th>0_y</th>\n",
       "      <th>date</th>\n",
       "    </tr>\n",
       "  </thead>\n",
       "  <tbody>\n",
       "    <tr>\n",
       "      <th>0</th>\n",
       "      <td>0</td>\n",
       "      <td>Encanto (Original Motion Picture Soundtrack)</td>\n",
       "      <td>spotify:album:25L8ck3KGcmCo3901ztPzR</td>\n",
       "      <td>2021-11-19</td>\n",
       "    </tr>\n",
       "    <tr>\n",
       "      <th>1</th>\n",
       "      <td>1</td>\n",
       "      <td>Moana (Original Motion Picture Soundtrack/Delu...</td>\n",
       "      <td>spotify:album:6pZj4nvx6lV3ulIK3BSjvs</td>\n",
       "      <td>2016-11-18</td>\n",
       "    </tr>\n",
       "    <tr>\n",
       "      <th>2</th>\n",
       "      <td>2</td>\n",
       "      <td>Frozen (Original Motion Picture Soundtrack / D...</td>\n",
       "      <td>spotify:album:7lZs5r4oQV2nutddffLrg0</td>\n",
       "      <td>2013-01-01</td>\n",
       "    </tr>\n",
       "    <tr>\n",
       "      <th>3</th>\n",
       "      <td>3</td>\n",
       "      <td>The Greatest Showman (Original Motion Picture ...</td>\n",
       "      <td>spotify:album:7ayBZIe1FHkNv0T5xFCX6F</td>\n",
       "      <td>2017-12-08</td>\n",
       "    </tr>\n",
       "    <tr>\n",
       "      <th>4</th>\n",
       "      <td>4</td>\n",
       "      <td>Frozen 2 (Original Motion Picture Soundtrack/D...</td>\n",
       "      <td>spotify:album:4M07HWIlZr7zoXoxDHR5mz</td>\n",
       "      <td>2019-11-15</td>\n",
       "    </tr>\n",
       "  </tbody>\n",
       "</table>\n",
       "</div>"
      ],
      "text/plain": [
       "   index                                                0_x  \\\n",
       "0      0       Encanto (Original Motion Picture Soundtrack)   \n",
       "1      1  Moana (Original Motion Picture Soundtrack/Delu...   \n",
       "2      2  Frozen (Original Motion Picture Soundtrack / D...   \n",
       "3      3  The Greatest Showman (Original Motion Picture ...   \n",
       "4      4  Frozen 2 (Original Motion Picture Soundtrack/D...   \n",
       "\n",
       "                                    0_y        date  \n",
       "0  spotify:album:25L8ck3KGcmCo3901ztPzR  2021-11-19  \n",
       "1  spotify:album:6pZj4nvx6lV3ulIK3BSjvs  2016-11-18  \n",
       "2  spotify:album:7lZs5r4oQV2nutddffLrg0  2013-01-01  \n",
       "3  spotify:album:7ayBZIe1FHkNv0T5xFCX6F  2017-12-08  \n",
       "4  spotify:album:4M07HWIlZr7zoXoxDHR5mz  2019-11-15  "
      ]
     },
     "execution_count": 20,
     "metadata": {},
     "output_type": "execute_result"
    }
   ],
   "source": [
    "listacompleta.head()"
   ]
  },
  {
   "cell_type": "code",
   "execution_count": 21,
   "id": "5890cb43",
   "metadata": {},
   "outputs": [],
   "source": [
    "c=[] \n",
    "listaanni2=listacompleta[\"date\"]\n",
    "for x in listacompleta[\"date\"]:        ###ciclo per modificare le date di uscita, e tenere solo l'anno\n",
    "    words=x.split(\"-\", 1)\n",
    "    c.append(words[0])\n",
    "    "
   ]
  },
  {
   "cell_type": "code",
   "execution_count": 22,
   "id": "d2cc9635",
   "metadata": {},
   "outputs": [],
   "source": [
    "listacompleta[\"date\"]=c                ###sostizuione del formato yyyy-mm-dd con yyyy"
   ]
  },
  {
   "cell_type": "code",
   "execution_count": null,
   "id": "5a1e81e0",
   "metadata": {},
   "outputs": [],
   "source": [
    "listacompleta.to_csv(\"titolo_uri_date.csv\")      ####salvataggio Dataframe"
   ]
  }
 ],
 "metadata": {
  "kernelspec": {
   "display_name": "Python 3 (ipykernel)",
   "language": "python",
   "name": "python3"
  },
  "language_info": {
   "codemirror_mode": {
    "name": "ipython",
    "version": 3
   },
   "file_extension": ".py",
   "mimetype": "text/x-python",
   "name": "python",
   "nbconvert_exporter": "python",
   "pygments_lexer": "ipython3",
   "version": "3.9.12"
  }
 },
 "nbformat": 4,
 "nbformat_minor": 5
}

